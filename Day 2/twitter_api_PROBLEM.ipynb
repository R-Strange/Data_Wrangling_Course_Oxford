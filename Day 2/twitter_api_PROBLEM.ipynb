{
 "cells": [
  {
   "cell_type": "code",
   "execution_count": 7,
   "metadata": {
    "collapsed": true
   },
   "outputs": [],
   "source": [
    "import pandas as pd\n",
    "import numpy as np\n",
    "import tweepy as tw\n",
    "import json\n",
    "from twython import Twython"
   ]
  },
  {
   "cell_type": "markdown",
   "metadata": {
    "collapsed": true
   },
   "source": [
    "# Twitter API Tutorial\n",
    "\n",
    "We want to look at the trends of tweets over the last day. Thankfully, twitter lets us access its data for free. However, to stop people from abusing it, it limits users on their download rates and makes then authenticate themselves when they interact with their servers.\n",
    "\n",
    "First of all, we will need to let twitter know that we want to access their data through their API (Application Program Interface). Let's access the Twitter Developer website behind twitter here... https://developer.twitter.com and register ourselves.\n",
    "\n",
    "Once we're in, let's set up a pretend app that we can tie the account to so we can generate our access keys. We will need consumer API keys and secret keys, and Access tokens and access token secrets. If prompted for permissions, we will only be reading, not writing for now.\n",
    "\n",
    "Don't worry about setting up a twitter dev environment or premium APIs - we're not here to buy data and use it in bulk.\n",
    "\n",
    "Once you have your tokens, create a JSON file to keep the data in, away from the openly readable code!\n",
    "\n",
    "### Twitter strictly limits the number of times you can access its API a day. be careful!\n",
    "\n",
    "Now, let's pull the credentials in"
   ]
  },
  {
   "cell_type": "code",
   "execution_count": 9,
   "metadata": {
    "collapsed": true
   },
   "outputs": [],
   "source": [
    "with open(\"./Twitter_credentials.json\", \"r\") as read_file:\n",
    "    credentials = json.load(read_file)"
   ]
  },
  {
   "cell_type": "markdown",
   "metadata": {},
   "source": [
    "Now that we have our access keys, we can start pulling down data. But the kind of data changes how we access it. For twitter, there is data that is public, and data that is private. We might be wanting to write an app that will post to twitter for us and analyse our DMs, which not only requires us to sign in with our access keys, but also provide sign-in details the the consumer account we're interacting with.\n",
    "\n",
    "Thankfully, we just want to look at public-facing data, like public tweets around a given hashtag, so we only need to authenticate our code's connection to the API.\n",
    "\n",
    "The first kind of authentication is called OAuth1, and requires a lot of work. OAuth2 is the protocol we're using, and it's far easier as we want read-only calls to the servers. *(Every API behaves differently. OAuth1/2 are twitter specific protocols, although many authentication patterns offer different protocols for write or read access, often with token/key authentication)*"
   ]
  },
  {
   "cell_type": "code",
   "execution_count": 17,
   "metadata": {
    "collapsed": true
   },
   "outputs": [],
   "source": [
    "twitter = Twython(credentials[\"consumer_key\"], credentials[\"consumer_secret\"])"
   ]
  },
  {
   "cell_type": "code",
   "execution_count": 65,
   "metadata": {
    "collapsed": true
   },
   "outputs": [],
   "source": [
    "general_search =  twitter.search(q='search_term', result_type = \"popular\")"
   ]
  },
  {
   "cell_type": "markdown",
   "metadata": {},
   "source": [
    "### Help\n",
    "\n",
    "The JSON that Twitter provides is quite complicated in its structure - but there is plenty of documentation available\n",
    "\n",
    "You can check [here](https://developer.twitter.com/en/docs/tweets/data-dictionary/overview/intro-to-tweet-json.html) and [here](https://developer.twitter.com/en/docs/tweets/data-dictionary/overview/tweet-object.html) to find most of it.\n",
    "\n",
    "Remember that once the JSON is in python interprets it as a dict, so you can interact with it natively."
   ]
  },
  {
   "cell_type": "code",
   "execution_count": null,
   "metadata": {
    "collapsed": true
   },
   "outputs": [],
   "source": []
  }
 ],
 "metadata": {
  "kernelspec": {
   "display_name": "Python 3",
   "language": "python",
   "name": "python3"
  },
  "language_info": {
   "codemirror_mode": {
    "name": "ipython",
    "version": 3
   },
   "file_extension": ".py",
   "mimetype": "text/x-python",
   "name": "python",
   "nbconvert_exporter": "python",
   "pygments_lexer": "ipython3",
   "version": "3.6.1"
  }
 },
 "nbformat": 4,
 "nbformat_minor": 2
}
