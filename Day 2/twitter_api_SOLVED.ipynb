{
 "cells": [
  {
   "cell_type": "code",
   "execution_count": 7,
   "metadata": {},
   "outputs": [],
   "source": [
    "import pandas as pd\n",
    "import numpy as np\n",
    "import tweepy as tw\n",
    "import json\n",
    "from twython import Twython"
   ]
  },
  {
   "cell_type": "markdown",
   "metadata": {
    "collapsed": true
   },
   "source": [
    "# Twitter API Tutorial\n",
    "\n",
    "We want to look at the trends of tweets over the last day. Thankfully, twitter lets us access its data for free. However, to stop people from abusing it, it limits users on their download rates and makes then authenticate themselves when they interact with their servers.\n",
    "\n",
    "First of all, we will need to let twitter know that we want to access their data through their API (Application Program Interface). Let's access the Twitter Developer website behind twitter here... https://developer.twitter.com and register ourselves.\n",
    "\n",
    "Once we're in, let's set up a pretend app that we can tie the account to so we can generate our access keys. We will need consumer API keys and secret keys, and Access tokens and access token secrets. If prompted for permissions, we will only be reading, not writing for now.\n",
    "\n",
    "Don't worry about setting up a twitter dev environment or premium APIs - we're not here to buy data and use it in bulk.\n",
    "\n",
    "Once you have your tokens, create a JSON file to keep the data in, away from the openly readable code!\n",
    "\n",
    "### Twitter strictly limits the number of times you can access its API a day. be careful!\n",
    "\n",
    "Now, let's pull the credentials in"
   ]
  },
  {
   "cell_type": "code",
   "execution_count": 9,
   "metadata": {},
   "outputs": [],
   "source": [
    "with open(\"./Twitter_credentials.json\", \"r\") as read_file:\n",
    "    credentials = json.load(read_file)"
   ]
  },
  {
   "cell_type": "markdown",
   "metadata": {},
   "source": [
    "Now that we have our access keys, we can start pulling down data. But the kind of data changes how we access it. For twitter, there is data that is public, and data that is private. We might be wanting to write an app that will post to twitter for us and analyse our DMs, which not only requires us to sign in with our access keys, but also provide sign-in details the the consumer account we're interacting with.\n",
    "\n",
    "Thankfully, we just want to look at public-facing data, like public tweets around a given hashtag, so we only need to authenticate our code's connection to the API.\n",
    "\n",
    "The first kind of authentication is called OAuth1, and requires a lot of work. OAuth2 is the protocol we're using, and it's far easier as we want read-only calls to the servers. *(Every API behaves differently. OAuth1/2 are twitter specific protocols, although many authentication patterns offer different protocols for write or read access, often with token/key authentication)*"
   ]
  },
  {
   "cell_type": "code",
   "execution_count": 17,
   "metadata": {
    "collapsed": true
   },
   "outputs": [],
   "source": [
    "twitter = Twython(credentials[\"consumer_key\"], credentials[\"consumer_secret\"])"
   ]
  },
  {
   "cell_type": "code",
   "execution_count": 65,
   "metadata": {},
   "outputs": [],
   "source": [
    "brexit_general_search =  twitter.search(q='brexit', result_type = \"popular\")"
   ]
  },
  {
   "cell_type": "code",
   "execution_count": 67,
   "metadata": {},
   "outputs": [
    {
     "data": {
      "text/plain": [
       "{'contributors': None,\n",
       " 'coordinates': None,\n",
       " 'created_at': 'Wed Apr 03 22:41:10 +0000 2019',\n",
       " 'entities': {'hashtags': [],\n",
       "  'symbols': [],\n",
       "  'urls': [{'display_url': 'twitter.com/i/web/status/1…',\n",
       "    'expanded_url': 'https://twitter.com/i/web/status/1113572176085516288',\n",
       "    'indices': [116, 139],\n",
       "    'url': 'https://t.co/rNjAfdy2TT'}],\n",
       "  'user_mentions': []},\n",
       " 'favorite_count': 14945,\n",
       " 'favorited': False,\n",
       " 'geo': None,\n",
       " 'id': 1113572176085516288,\n",
       " 'id_str': '1113572176085516288',\n",
       " 'in_reply_to_screen_name': None,\n",
       " 'in_reply_to_status_id': None,\n",
       " 'in_reply_to_status_id_str': None,\n",
       " 'in_reply_to_user_id': None,\n",
       " 'in_reply_to_user_id_str': None,\n",
       " 'is_quote_status': True,\n",
       " 'lang': 'en',\n",
       " 'metadata': {'iso_language_code': 'en', 'result_type': 'popular'},\n",
       " 'place': None,\n",
       " 'possibly_sensitive': False,\n",
       " 'quoted_status': {'contributors': None,\n",
       "  'coordinates': None,\n",
       "  'created_at': 'Wed Apr 03 22:27:52 +0000 2019',\n",
       "  'entities': {'hashtags': [{'indices': [0, 9], 'text': 'Breaking'}],\n",
       "   'symbols': [],\n",
       "   'urls': [{'display_url': 'twitter.com/i/web/status/1…',\n",
       "     'expanded_url': 'https://twitter.com/i/web/status/1113568827281956864',\n",
       "     'indices': [117, 140],\n",
       "     'url': 'https://t.co/G7ZLjf8OTv'}],\n",
       "   'user_mentions': []},\n",
       "  'favorite_count': 62,\n",
       "  'favorited': False,\n",
       "  'geo': None,\n",
       "  'id': 1113568827281956864,\n",
       "  'id_str': '1113568827281956864',\n",
       "  'in_reply_to_screen_name': None,\n",
       "  'in_reply_to_status_id': None,\n",
       "  'in_reply_to_status_id_str': None,\n",
       "  'in_reply_to_user_id': None,\n",
       "  'in_reply_to_user_id_str': None,\n",
       "  'is_quote_status': False,\n",
       "  'lang': 'en',\n",
       "  'metadata': {'iso_language_code': 'en', 'result_type': 'popular'},\n",
       "  'place': None,\n",
       "  'possibly_sensitive': False,\n",
       "  'retweet_count': 60,\n",
       "  'retweeted': False,\n",
       "  'source': '<a href=\"https://about.twitter.com/products/tweetdeck\" rel=\"nofollow\">TweetDeck</a>',\n",
       "  'text': '#Breaking Proposed legislation to further delay the date of Brexit clears the Commons after MPs give it a third rea… https://t.co/G7ZLjf8OTv',\n",
       "  'truncated': True,\n",
       "  'user': {'contributors_enabled': False,\n",
       "   'created_at': 'Tue Feb 03 16:56:21 +0000 2009',\n",
       "   'default_profile': False,\n",
       "   'default_profile_image': False,\n",
       "   'description': '#Breaking news, developing stories, features and more from the UK’s national news and sport agency.',\n",
       "   'entities': {'description': {'urls': []},\n",
       "    'url': {'urls': [{'display_url': 'pressassociation.com',\n",
       "       'expanded_url': 'http://www.pressassociation.com',\n",
       "       'indices': [0, 22],\n",
       "       'url': 'http://t.co/GSE5B5HWlK'}]}},\n",
       "   'favourites_count': 2,\n",
       "   'follow_request_sent': None,\n",
       "   'followers_count': 125848,\n",
       "   'following': None,\n",
       "   'friends_count': 221,\n",
       "   'geo_enabled': True,\n",
       "   'has_extended_profile': False,\n",
       "   'id': 19983221,\n",
       "   'id_str': '19983221',\n",
       "   'is_translation_enabled': False,\n",
       "   'is_translator': False,\n",
       "   'lang': 'en',\n",
       "   'listed_count': 2627,\n",
       "   'location': 'UK and Ireland',\n",
       "   'name': 'Press Association',\n",
       "   'notifications': None,\n",
       "   'profile_background_color': 'FFFFFF',\n",
       "   'profile_background_image_url': 'http://abs.twimg.com/images/themes/theme1/bg.png',\n",
       "   'profile_background_image_url_https': 'https://abs.twimg.com/images/themes/theme1/bg.png',\n",
       "   'profile_background_tile': False,\n",
       "   'profile_banner_url': 'https://pbs.twimg.com/profile_banners/19983221/1546960250',\n",
       "   'profile_image_url': 'http://pbs.twimg.com/profile_images/919964816848179201/rWhrS8om_normal.jpg',\n",
       "   'profile_image_url_https': 'https://pbs.twimg.com/profile_images/919964816848179201/rWhrS8om_normal.jpg',\n",
       "   'profile_link_color': 'B02025',\n",
       "   'profile_sidebar_border_color': 'FFFFFF',\n",
       "   'profile_sidebar_fill_color': 'E8E8E8',\n",
       "   'profile_text_color': '333333',\n",
       "   'profile_use_background_image': False,\n",
       "   'protected': False,\n",
       "   'screen_name': 'PA',\n",
       "   'statuses_count': 72061,\n",
       "   'time_zone': None,\n",
       "   'translator_type': 'none',\n",
       "   'url': 'http://t.co/GSE5B5HWlK',\n",
       "   'utc_offset': None,\n",
       "   'verified': True}},\n",
       " 'quoted_status_id': 1113568827281956864,\n",
       " 'quoted_status_id_str': '1113568827281956864',\n",
       " 'retweet_count': 5147,\n",
       " 'retweeted': False,\n",
       " 'source': '<a href=\"http://twitter.com/download/iphone\" rel=\"nofollow\">Twitter for iPhone</a>',\n",
       " 'text': 'How can a single vote in parliament supersede the 1.3m vote majority for Brexit? \\n\\nIt is now clear we will have to… https://t.co/rNjAfdy2TT',\n",
       " 'truncated': True,\n",
       " 'user': {'contributors_enabled': False,\n",
       "  'created_at': 'Thu Jan 15 10:37:07 +0000 2009',\n",
       "  'default_profile': False,\n",
       "  'default_profile_image': False,\n",
       "  'description': '@BrexitParty_UK MEP',\n",
       "  'entities': {'description': {'urls': []},\n",
       "   'url': {'urls': [{'display_url': 'Nfarage.com',\n",
       "      'expanded_url': 'http://Nfarage.com',\n",
       "      'indices': [0, 23],\n",
       "      'url': 'https://t.co/9N0LW29Mun'}]}},\n",
       "  'favourites_count': 108,\n",
       "  'follow_request_sent': None,\n",
       "  'followers_count': 1276410,\n",
       "  'following': None,\n",
       "  'friends_count': 457,\n",
       "  'geo_enabled': True,\n",
       "  'has_extended_profile': False,\n",
       "  'id': 19017675,\n",
       "  'id_str': '19017675',\n",
       "  'is_translation_enabled': False,\n",
       "  'is_translator': False,\n",
       "  'lang': 'en',\n",
       "  'listed_count': 6066,\n",
       "  'location': '',\n",
       "  'name': 'Nigel Farage',\n",
       "  'notifications': None,\n",
       "  'profile_background_color': '722889',\n",
       "  'profile_background_image_url': 'http://abs.twimg.com/images/themes/theme10/bg.gif',\n",
       "  'profile_background_image_url_https': 'https://abs.twimg.com/images/themes/theme10/bg.gif',\n",
       "  'profile_background_tile': True,\n",
       "  'profile_banner_url': 'https://pbs.twimg.com/profile_banners/19017675/1553954879',\n",
       "  'profile_image_url': 'http://pbs.twimg.com/profile_images/1112063523859976192/NbvFf9Wk_normal.jpg',\n",
       "  'profile_image_url_https': 'https://pbs.twimg.com/profile_images/1112063523859976192/NbvFf9Wk_normal.jpg',\n",
       "  'profile_link_color': '722889',\n",
       "  'profile_sidebar_border_color': 'FFFFFF',\n",
       "  'profile_sidebar_fill_color': '7AC3EE',\n",
       "  'profile_text_color': '3D1957',\n",
       "  'profile_use_background_image': True,\n",
       "  'protected': False,\n",
       "  'screen_name': 'Nigel_Farage',\n",
       "  'statuses_count': 14353,\n",
       "  'time_zone': None,\n",
       "  'translator_type': 'none',\n",
       "  'url': 'https://t.co/9N0LW29Mun',\n",
       "  'utc_offset': None,\n",
       "  'verified': True}}"
      ]
     },
     "execution_count": 67,
     "metadata": {},
     "output_type": "execute_result"
    }
   ],
   "source": [
    "brexit_general_search[\"statuses\"][1]"
   ]
  },
  {
   "cell_type": "code",
   "execution_count": 68,
   "metadata": {},
   "outputs": [
    {
     "name": "stdout",
     "output_type": "stream",
     "text": [
      "17.4 million voted for Brexit.\n",
      "\n",
      "313 MPs, including a criminal wearing an electronic tag, just blocked it - with a majority of 1.\n",
      "How can a single vote in parliament supersede the 1.3m vote majority for Brexit? \n",
      "\n",
      "It is now clear we will have to… https://t.co/rNjAfdy2TT\n",
      "The unbelievable obtuseness of those who choose not to understand that checking that people are content with a… https://t.co/8Fmqf7y2ku\n",
      "\"Forget the fiction… it's absolute nonsense. It needs to be called out.\"\n",
      "\n",
      "Mark Carney says it's a \"myth\" that the U… https://t.co/h3gMpcfE9q\n",
      "Who's overseeing the \"grassroots\" Brexit campaign groups on Facebook, spending massive money to convince MPs that t… https://t.co/UPkINZ1hpE\n",
      "Julia Hartley-Brewer to Alastair Campbell on no-deal Brexit block: \"Yvette Cooper secured that vote last night. She… https://t.co/OlDq5V3M96\n",
      "Yvette \"I will not vote to block Brexit\" Cooper strikes again.\n",
      "\n",
      "She represents one of the highest Leave-voting cons… https://t.co/wsoUhXpN6S\n",
      "Two remainers try to halt Brexit.\n",
      "https://t.co/71MNikEbPq\n",
      "This is Jeremy Corbyn in 1986, being arrested at a picket against the trial of several IRA terrorists - including P… https://t.co/LTv0PCsWcc\n",
      "No Deal vs Remain by region:\n",
      "\n",
      "NON-LONDON SOUTH\n",
      "No deal 50%\n",
      "Remain 40%\n",
      "\n",
      "MIDLANDS\n",
      "No deal 49%\n",
      "Remain 38%\n",
      "\n",
      "NORTH\n",
      "No de… https://t.co/0ny62Rdd2S\n",
      "Come off it @YvetteCooperMP. You’re just a serial liar and expenses cheat who wants to stop Brexit. And you don’t c… https://t.co/yyOqNyNa9K\n",
      "A man who sides with terrorists and socialist dictators, would surrender our nuclear deterrent, has let anti-Semiti… https://t.co/7nacJCGLwi\n",
      "This report into secret funding of no-deal Brexit ads on Facebook appears to show a darkness at the heart of our po… https://t.co/1DnEPxMeD4\n",
      "No, we shouldn’t wait. There must be a full public inquiry into the Brexit referendum, online adverts &amp; interferenc… https://t.co/nCGIaBNrwL\n",
      "This is @YvetteCooperMP's election leaflet from just 21 months ago. She promised \"the best Brexit deal\", she promis… https://t.co/SWWltCkV4F\n"
     ]
    }
   ],
   "source": [
    "for post in brexit_general_search[\"statuses\"]:\n",
    "    print(post[\"text\"])"
   ]
  },
  {
   "cell_type": "code",
   "execution_count": 70,
   "metadata": {},
   "outputs": [
    {
     "name": "stdout",
     "output_type": "stream",
     "text": [
      "4340\n",
      "5147\n",
      "5692\n",
      "2251\n",
      "2673\n",
      "2250\n",
      "2707\n",
      "2298\n",
      "3211\n",
      "3687\n",
      "1692\n",
      "3103\n",
      "2367\n",
      "1260\n",
      "1034\n"
     ]
    }
   ],
   "source": [
    "for post in brexit_general_search[\"statuses\"]:\n",
    "    print(post[\"retweet_count\"])"
   ]
  },
  {
   "cell_type": "code",
   "execution_count": null,
   "metadata": {
    "collapsed": true
   },
   "outputs": [],
   "source": []
  }
 ],
 "metadata": {
  "kernelspec": {
   "display_name": "Python 3",
   "language": "python",
   "name": "python3"
  },
  "language_info": {
   "codemirror_mode": {
    "name": "ipython",
    "version": 3
   },
   "file_extension": ".py",
   "mimetype": "text/x-python",
   "name": "python",
   "nbconvert_exporter": "python",
   "pygments_lexer": "ipython3",
   "version": "3.6.1"
  }
 },
 "nbformat": 4,
 "nbformat_minor": 2
}
